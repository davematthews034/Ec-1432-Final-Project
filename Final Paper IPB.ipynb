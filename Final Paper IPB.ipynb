{
 "cells": [
  {
   "cell_type": "code",
   "execution_count": 20,
   "metadata": {
    "collapsed": false
   },
   "outputs": [],
   "source": [
    "# The %... is an iPython thing, and is not part of the Python language.\n",
    "# In this case we're just telling the plotting library to draw things on\n",
    "# the notebook, instead of on a separate window.\n",
    "%matplotlib inline\n",
    "# All of my import declarations\n",
    "import numpy as np\n",
    "import scipy as sp\n",
    "import matplotlib as mpl\n",
    "import matplotlib.cm as cm\n",
    "import matplotlib.pyplot as plt\n",
    "import pandas as pd\n",
    "import time\n",
    "pd.set_option('display.width', 500)\n",
    "pd.set_option('display.max_columns', 100)\n",
    "pd.set_option('display.notebook_repr_html', True)\n",
    "import seaborn as sns\n",
    "sns.set_style(\"whitegrid\")\n",
    "sns.set_context(\"poster\")\n",
    "\n",
    "from pyquery import PyQuery as pq\n",
    "from bs4 import BeautifulSoup\n",
    "# The \"requests\" library makes working with HTTP requests easier\n",
    "# than the built-in urllib libraries.\n",
    "import requests\n"
   ]
  },
  {
   "cell_type": "code",
   "execution_count": 21,
   "metadata": {
    "collapsed": false
   },
   "outputs": [],
   "source": [
    "# here we access the webpage and download the content using requests\n",
    "country_list=requests.get(\"https://en.wikipedia.org/wiki/ISO_3166-1_numeric\")"
   ]
  },
  {
   "cell_type": "code",
   "execution_count": 22,
   "metadata": {
    "collapsed": false
   },
   "outputs": [],
   "source": [
    "# Scraping wikipedia for country codes\n",
    "soup = BeautifulSoup(country_list.text, \"html.parser\")\n",
    "rows = soup.find(\"table\", attrs={\"class\": \"wikitable\"}).find_all(\"tr\")[1:]\n",
    "countryTup = [(int(row.findChildren(\"td\")[0].get_text()), row.findChildren(\"td\")[1].get_text()) for row in rows]"
   ]
  },
  {
   "cell_type": "code",
   "execution_count": 23,
   "metadata": {
    "collapsed": false
   },
   "outputs": [],
   "source": [
    "# Taking in WVS/EVS survey data\n",
    "data = pd.read_stata(\"WVS Data.dta\", convert_categoricals=False)\n",
    "data = data[data.V23 > 0]\n",
    "data = data[data.V125 > 0]\n",
    "data = data[data.V126 > 0]\n",
    "data = data[data.V127 > 0]\n",
    "data = data[data.V130 > 0]"
   ]
  },
  {
   "cell_type": "code",
   "execution_count": 24,
   "metadata": {
    "collapsed": false
   },
   "outputs": [],
   "source": [
    "grouped = data.groupby('V2').mean().reset_index()"
   ]
  },
  {
   "cell_type": "code",
   "execution_count": 25,
   "metadata": {
    "collapsed": false
   },
   "outputs": [],
   "source": [
    "# Fixing the headers and adding trust numbers\n",
    "for value, name in countryTup:\n",
    "    value = [value]\n",
    "    grouped.loc[grouped.V2.isin(value),'V2'] = name\n",
    "\n",
    "trustlist = ['V2', 'V23', 'V125', 'V126', 'V127', 'V130']\n",
    "trustratings = grouped[trustlist]\n",
    "trustratings.columns = ['Country', 'PeopleTrust','FamilyTrust', 'NeighborTrust', 'PersonalTrust', 'OtherCountryTrust']\n"
   ]
  },
  {
   "cell_type": "code",
   "execution_count": 26,
   "metadata": {
    "collapsed": false
   },
   "outputs": [],
   "source": [
    "# Taking in economic data and adding it to the trust data\n",
    "eximdata = pd.read_excel(\"OECD DITS.xlsx\")\n",
    "eximdata = eximdata[eximdata.TIME == 2013]\n",
    "collist= ['Reporter country', 'Partner country', 'FLOW', 'Value']\n",
    "eximdata = eximdata[collist]\n",
    "joinedset = pd.merge(eximdata, trustratings, how=\"left\", left_on='Reporter country', right_on='Country')\n",
    "gdpdata = pd.read_excel(\"GDP.xls\", skiprows = 3)\n",
    "gdpdata.drop(gdpdata.columns[[0,1,2,5]], axis=1, inplace=True)\n",
    "gdpdata.columns = ['Economy', 'GDP']\n",
    "joined2 = joinedset.merge(gdpdata, how=\"left\", left_on=['Reporter country'], right_on=['Economy'])\n",
    "joined2['GDP'] = joined2['GDP'] * 1000000\n",
    "joined2['Country Trade Percent of GDP'] = joined2['Value'] / (joined2['GDP'])"
   ]
  },
  {
   "cell_type": "code",
   "execution_count": 27,
   "metadata": {
    "collapsed": false
   },
   "outputs": [],
   "source": [
    "# Normalizing and cleaning up the data\n",
    "joined3 = joined2\n",
    "joined3['PeopleTrust'] = (joined3['PeopleTrust'].max()-joined3['PeopleTrust'])/(joined3['PeopleTrust'].max()-joined3['PeopleTrust'].min())\n",
    "joined3['FamilyTrust'] = (joined3['FamilyTrust'].max()-joined3['FamilyTrust'])/(joined3['FamilyTrust'].max()-joined3['FamilyTrust'].min())\n",
    "joined3['NeighborTrust'] = (joined3['NeighborTrust'].max()-joined3['NeighborTrust'])/(joined3['NeighborTrust'].max()-joined3['NeighborTrust'].min())\n",
    "joined3['PersonalTrust'] = (joined3['PersonalTrust'].max()-joined3['PersonalTrust'])/(joined3['PersonalTrust'].max()-joined3['PersonalTrust'].min())\n",
    "joined3['OtherCountryTrust'] = (joined3['OtherCountryTrust'].max()-joined3['OtherCountryTrust'])/(joined3['OtherCountryTrust'].max()-joined3['OtherCountryTrust'].min())\n",
    "\n",
    "EU28 = ['Austria', 'Belgium', 'Bulgaria', 'Cyprus', 'Croatia', 'Czech Republic', 'Denmark', 'Estonia', 'Finland', 'France', 'Germany', 'Greece', 'Hungary', 'Ireland', 'Italy', 'Latvia', 'Lithuania', 'Luxembourg', 'Malta', 'Netherlands', 'Poland', 'Portugal', 'Romania', 'Slovakia', 'Slovenia', 'Spain', 'Sweden', 'United Kingdom']\n",
    "joined3 = joined3[joined3['Reporter country'].isin(EU28)]\n",
    "joined3 = joined3[joined3['Partner country'].isin(EU28)]\n",
    "    \n",
    "joined3.drop(['Country','Economy'], axis=1)\n",
    "prelanguage = joined3"
   ]
  },
  {
   "cell_type": "code",
   "execution_count": 28,
   "metadata": {
    "collapsed": false
   },
   "outputs": [],
   "source": [
    "# percent able to hold a conversation in English\n",
    "EU28lang = [('Austria', .64), ('Belgium', .71), ('Bulgaria', .70),\\\n",
    "            ('Cyprus', .75), ('Croatia', .60), ('Czech Republic', .76),\\\n",
    "            ('Denmark', .81), ('Estonia', .64), ('Finland', .67),\\\n",
    "            ('France', .57), ('Germany', .70), ('Greece', .69),\\\n",
    "            ('Hungary', .45), ('Ireland', .89), ('Italy', .69),\\\n",
    "            ('Latvia', .44), ('Lithuania', .54), ('Luxembourg', .63),\\\n",
    "            ('Malta', .80), ('Netherlands', .90), ('Poland', .65),\\\n",
    "            ('Portugal', .62), ('Romania', .50), ('Slovakia', 'Slovak'),\\\n",
    "            ('Slovenia', .68), ('Spain', .58), ('Sweden', .77),\\\n",
    "            ('United Kingdom', .94)]\n",
    "\n",
    "prelanguage['English Rate'] = None\n",
    "for name, rate in EU28lang:\n",
    "    prelanguage.loc[prelanguage['Reporter country'].isin([name]),'English Rate'] = rate\n",
    "    prelanguage.loc[prelanguage['Partner country'].isin([name]),'PartnerEnglish'] = rate\n",
    "    \n",
    "prelanguage['Mutual English'] = prelanguage['English Rate'] * prelanguage['PartnerEnglish']\n",
    "\n",
    "prebilateral = prelanguage"
   ]
  },
  {
   "cell_type": "code",
   "execution_count": 29,
   "metadata": {
    "collapsed": false
   },
   "outputs": [],
   "source": [
    "euroBaromCodes = [(2,'Belgium'),(7,'Denmark'),(4,'Germany'),(11,'Greece'),(5,'Italy'),(12,'Spain'),\\\n",
    "                  (1,'France'),(8,'Ireland'),(10,'United Kingdom'),(6,'Luxembourg'),(3,'Netherlands'),\\\n",
    "                  (13,'Portugal'),(9,'United Kingdom'),(4,'Germany'),(15,'Finland'),(16,'Sweden'),\\\n",
    "                  (17,'Austria')]"
   ]
  },
  {
   "cell_type": "code",
   "execution_count": 30,
   "metadata": {
    "collapsed": false
   },
   "outputs": [],
   "source": [
    "# Adding bilateral trust data from 1996\n",
    "bilateraldata = pd.read_stata(\"Bilateral Trust.dta\", convert_categoricals=False)\n",
    "questionList = ['v11','v81','v82','v83','v84','v85','v86','v87','v88','v89','v90','v91','v92',\\\n",
    "                'v93','v94','v95','v96','v97','v98','v99','v100','v101','v102','v103']\n",
    "nameList = ['Country','Austria','Belgium','United Kingdom','Denmark','Netherlands','Finland','France','Germany','Greece',\\\n",
    "            'Ireland','Italy','Luxembourg','Portugal','Spain','Sweden','Switzerland','Norway','Poland','Hungary',\\\n",
    "            'Czech Republic','Slovakia','Russia','Turkey']\n",
    "\n",
    "bilateraldata = bilateraldata[questionList]\n",
    "for (value, name) in euroBaromCodes:\n",
    "    value = [value]\n",
    "    bilateraldata.loc[bilateraldata.v11.isin(value),'v11'] = name\n",
    "\n",
    "bilateraldata.columns = nameList"
   ]
  },
  {
   "cell_type": "code",
   "execution_count": 31,
   "metadata": {
    "collapsed": false,
    "scrolled": false
   },
   "outputs": [],
   "source": [
    "# Cleaning up the finished data\n",
    "meanbilateraltrust = bilateraldata.groupby('Country').mean().reset_index()\n",
    "newMerged = prebilateral.merge(meanbilateraltrust, how=\"left\", left_on=['Reporter country'], right_on=['Country'])\n",
    "for country in nameList[1:]:\n",
    "    newMerged.loc[newMerged['Partner country'].isin([country]),'Bilateral Trust'] = newMerged[country]\n",
    "\n",
    "newMerged = newMerged.drop(nameList[1:], axis=1)\n",
    "newMerged.drop(['Country_x','Economy','Country_y'], axis=1, inplace=True)\n",
    "newMerged['Bilateral Trust'] = (newMerged['Bilateral Trust'].max() - newMerged['Bilateral Trust'])\n",
    "newMerged['Bilateral Trust'] = newMerged['Bilateral Trust']/newMerged['Bilateral Trust'].max()\n",
    "preFDI = newMerged"
   ]
  },
  {
   "cell_type": "code",
   "execution_count": 32,
   "metadata": {
    "collapsed": false
   },
   "outputs": [],
   "source": [
    "# Adding FDI Numbers\n",
    "FDIstats = pd.read_excel('FDI Numbers.xlsx')\n",
    "all_stats = preFDI.merge(FDIstats, how=\"left\", left_on=['Reporter country'], right_on=['Country'])\n",
    "all_stats.drop(['Country','Bonds','Commercial bank and other lending'], axis=1, inplace=True)\n",
    "preoutput = all_stats"
   ]
  },
  {
   "cell_type": "code",
   "execution_count": 33,
   "metadata": {
    "collapsed": false
   },
   "outputs": [],
   "source": [
    "# adding partner GDP (for gravity equation)\n",
    "for country in EU28:\n",
    "    temp1 = preoutput['GDP'].loc[preoutput['Reporter country'] == country]\n",
    "    if temp1.empty:\n",
    "        continue\n",
    "    else:\n",
    "        preoutput.loc[preoutput['Partner country'] == country,'PartnerGDP'] = temp1.iloc[0]\n",
    "\n",
    "pregeo = preoutput"
   ]
  },
  {
   "cell_type": "code",
   "execution_count": 34,
   "metadata": {
    "collapsed": false
   },
   "outputs": [],
   "source": [
    "pregeo = preoutput\n",
    "geodis = pd.read_excel('Economic Distance and Common Law.xlsx', parse_cols='A:F')\n",
    "\n",
    "pregeo = pregeo.merge(geodis, how=\"left\", on=['Reporter country','Partner country']).drop('Other country', axis=1)\n",
    "prerel = pregeo\n"
   ]
  },
  {
   "cell_type": "code",
   "execution_count": 35,
   "metadata": {
    "collapsed": false
   },
   "outputs": [],
   "source": [
    "religiondata = pd.read_stata(\"WVS Data.dta\", convert_categoricals=False)\n",
    "questionList = ['V2','V185']\n",
    "religiondata = religiondata[questionList]\n",
    "for value, name in countryTup:\n",
    "    value = [value]\n",
    "    religiondata.loc[religiondata.V2.isin(value),'V2'] = name\n",
    "\n",
    "religiondata.columns = ['Country', 'Religion']\n",
    "# Categorizing common religions\n",
    "relTup = [('Catholic/Anglican', 64), ('Muslim', 49), ('Hindu',31), ('Protestant', 62), \\\n",
    "          ('Buddhist', 12), ('Orthodox', 52), ('Jew', 42), ('None', 0), ('Other', 53),\\\n",
    "          ('Catholic/Anglican', 5),('Protestant', 9),('Protestant', 17),('Protestant', 25),\\\n",
    "          ('Muslim', 70), ('Muslim', 75), ('Protestant', 78), ('Native', 4), ('Native', 50),\\\n",
    "          ]\n",
    "\n",
    "religiondata = religiondata[religiondata.Country != 891]\n",
    "rellist = [value for (name, value) in relTup]\n",
    "    \n",
    "religiondata = religiondata[religiondata.Religion.isin(rellist)]\n",
    "\n",
    "for name, value in relTup:\n",
    "    religiondata.loc[religiondata.Religion.isin([value]),'Religion'] = name\n",
    "                                      \n",
    "religiondata = religiondata[religiondata['Country'].isin(EU28)]\n",
    "excelout = religiondata.groupby('Country').Religion.value_counts()\n",
    "excelout.to_frame(name='Religion').to_excel('Pre-religion.xls')"
   ]
  },
  {
   "cell_type": "code",
   "execution_count": 36,
   "metadata": {
    "collapsed": false
   },
   "outputs": [],
   "source": [
    "excelin = pd.read_excel('Post-Religion.xls', parse_cols='B:C,P')\n",
    "finalData = prerel.merge(excelin, how=\"left\", on=['Reporter country','Partner country'])\n",
    "output = finalData"
   ]
  },
  {
   "cell_type": "code",
   "execution_count": 37,
   "metadata": {
    "collapsed": true
   },
   "outputs": [],
   "source": [
    "output.to_csv('dataset.csv')"
   ]
  },
  {
   "cell_type": "code",
   "execution_count": null,
   "metadata": {
    "collapsed": true
   },
   "outputs": [],
   "source": []
  }
 ],
 "metadata": {
  "kernelspec": {
   "display_name": "Python 2",
   "language": "python",
   "name": "python2"
  },
  "language_info": {
   "codemirror_mode": {
    "name": "ipython",
    "version": 2
   },
   "file_extension": ".py",
   "mimetype": "text/x-python",
   "name": "python",
   "nbconvert_exporter": "python",
   "pygments_lexer": "ipython2",
   "version": "2.7.10"
  }
 },
 "nbformat": 4,
 "nbformat_minor": 0
}
