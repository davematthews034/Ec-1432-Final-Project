{
 "cells": [
  {
   "cell_type": "code",
   "execution_count": 1,
   "metadata": {
    "collapsed": false
   },
   "outputs": [],
   "source": [
    "# The %... is an iPython thing, and is not part of the Python language.\n",
    "# In this case we're just telling the plotting library to draw things on\n",
    "# the notebook, instead of on a separate window.\n",
    "%matplotlib inline\n",
    "# All of my import declarations\n",
    "import numpy as np\n",
    "import scipy as sp\n",
    "import matplotlib as mpl\n",
    "import matplotlib.cm as cm\n",
    "import matplotlib.pyplot as plt\n",
    "import pandas as pd\n",
    "import time\n",
    "pd.set_option('display.width', 500)\n",
    "pd.set_option('display.max_columns', 100)\n",
    "pd.set_option('display.notebook_repr_html', True)\n",
    "import seaborn as sns\n",
    "sns.set_style(\"whitegrid\")\n",
    "sns.set_context(\"poster\")\n",
    "\n",
    "from pyquery import PyQuery as pq\n",
    "from bs4 import BeautifulSoup\n",
    "# The \"requests\" library makes working with HTTP requests easier\n",
    "# than the built-in urllib libraries.\n",
    "import requests\n"
   ]
  },
  {
   "cell_type": "code",
   "execution_count": 2,
   "metadata": {
    "collapsed": false
   },
   "outputs": [],
   "source": [
    "# here we access the webpage and download the content using requests\n",
    "country_list=requests.get(\"https://en.wikipedia.org/wiki/ISO_3166-1_numeric\")"
   ]
  },
  {
   "cell_type": "code",
   "execution_count": 3,
   "metadata": {
    "collapsed": false
   },
   "outputs": [],
   "source": [
    "# Scraping wikipedia for country codes\n",
    "soup = BeautifulSoup(country_list.text, \"html.parser\")\n",
    "rows = soup.find(\"table\", attrs={\"class\": \"wikitable\"}).find_all(\"tr\")[1:]\n",
    "countryTup = [(int(row.findChildren(\"td\")[0].get_text()), row.findChildren(\"td\")[1].get_text()) for row in rows]"
   ]
  },
  {
   "cell_type": "code",
   "execution_count": 4,
   "metadata": {
    "collapsed": false
   },
   "outputs": [],
   "source": [
    "# Taking in WVS/EVS survey data\n",
    "data = pd.read_stata(\"ZA4804_v2-0-0.dta\", convert_categoricals=False)"
   ]
  },
  {
   "cell_type": "code",
   "execution_count": 5,
   "metadata": {
    "collapsed": false
   },
   "outputs": [],
   "source": [
    "grouped = data.groupby('s003').mean().reset_index()"
   ]
  },
  {
   "cell_type": "code",
   "execution_count": 6,
   "metadata": {
    "collapsed": false
   },
   "outputs": [],
   "source": [
    "# Fixing the headers and adding trust numbers\n",
    "for value, name in countryTup:\n",
    "    value = [value]\n",
    "    grouped.loc[grouped.s003.isin(value),'s003'] = name\n",
    "\n",
    "trustlist = ['s003', 'a165', 'a166', 'a167', 'd001', 'g007_01']\n",
    "trustratings = grouped[trustlist]\n",
    "trustratings.columns = ['Country', 'PeopleTrust','YoungTrustOld', 'OldTrustYoung', 'FamilyTrust', 'CountryTrust']"
   ]
  },
  {
   "cell_type": "code",
   "execution_count": 7,
   "metadata": {
    "collapsed": false
   },
   "outputs": [],
   "source": [
    "# Taking in economic data and adding it to the trust data\n",
    "eximdata = pd.read_excel(\"OECD DITS.xlsx\")\n",
    "eximdata = eximdata[eximdata.TIME == 2013]\n",
    "collist= ['Reporter country', 'Partner country', 'FLOW', 'Value']\n",
    "eximdata = eximdata[collist]\n",
    "joinedset = pd.merge(eximdata, trustratings, how=\"left\", left_on='Reporter country', right_on='Country')\n",
    "gdpdata = pd.read_excel(\"GDP.xls\", skiprows = 3)\n",
    "gdpdata.drop(gdpdata.columns[[0,1,2,5]], axis=1, inplace=True)\n",
    "gdpdata.columns = ['Economy', 'GDP']\n",
    "joined2 = joinedset.merge(gdpdata, how=\"left\", left_on=['Reporter country'], right_on=['Economy'])\n",
    "joined2['GDP'] = joined2['GDP'] * 1000000\n",
    "joined2['Country Trade Percent of GDP'] = joined2['Value'] / (joined2['GDP'])"
   ]
  },
  {
   "cell_type": "code",
   "execution_count": 8,
   "metadata": {
    "collapsed": false
   },
   "outputs": [],
   "source": [
    "# Normalizing and cleaning up the data\n",
    "joined3 = joined2\n",
    "joined3['PeopleTrust'] = (joined3['PeopleTrust']-joined3['PeopleTrust'].min())/(joined3['PeopleTrust'].max()-joined3['PeopleTrust'].min())\n",
    "joined3['YoungTrustOld'] = (joined3['YoungTrustOld']-joined3['YoungTrustOld'].min())/(joined3['YoungTrustOld'].max()-joined3['YoungTrustOld'].min())\n",
    "joined3['OldTrustYoung'] = (joined3['OldTrustYoung']-joined3['OldTrustYoung'].min())/(joined3['OldTrustYoung'].max()-joined3['OldTrustYoung'].min())\n",
    "joined3['FamilyTrust'] = (joined3['FamilyTrust']-joined3['FamilyTrust'].min())/(joined3['FamilyTrust'].max()-joined3['FamilyTrust'].min())\n",
    "joined3['CountryTrust'] = (joined3['CountryTrust']-joined3['CountryTrust'].min())/(joined3['CountryTrust'].max()-joined3['CountryTrust'].min())\n",
    "\n",
    "EU28 = ['Austria', 'Belgium', 'Bulgaria', 'Cyprus', 'Croatia', 'Czech Republic', 'Denmark', 'Estonia', 'Finland', 'France', 'Germany', 'Greece', 'Hungary', 'Ireland', 'Italy', 'Latvia', 'Lithuania', 'Luxembourg', 'Malta', 'Netherlands', 'Poland', 'Portugal', 'Romania', 'Slovakia', 'Slovenia', 'Spain', 'Sweden', 'United Kingdom']\n",
    "joined3 = joined3[joined3['Reporter country'].isin(EU28)]\n",
    "joined3 = joined3[joined3['Partner country'].isin(EU28)]\n",
    "\n",
    "foreignlist = []\n",
    "for country in EU28:\n",
    "    temp = joined3[joined3[\"Partner country\"] == country]\n",
    "    temp2 = joined3[joined3[\"Reporter country\"] == country]['PeopleTrust']\n",
    "    if temp2.empty:\n",
    "        continue\n",
    "    else:\n",
    "        trustTup = temp2.iloc[0], country\n",
    "        foreignlist.append(trustTup)\n",
    "    \n",
    "joined3.drop(['Country','Economy'], axis=1)\n",
    "prelanguage = joined3\n"
   ]
  },
  {
   "cell_type": "code",
   "execution_count": 9,
   "metadata": {
    "collapsed": false
   },
   "outputs": [],
   "source": [
    "# percent able to hold a conversation in English\n",
    "EU28lang = [('Austria', .64), ('Belgium', .71), ('Bulgaria', .70),\\\n",
    "            ('Cyprus', .75), ('Croatia', .60), ('Czech Republic', .76),\\\n",
    "            ('Denmark', .81), ('Estonia', .64), ('Finland', .67),\\\n",
    "            ('France', .57), ('Germany', .70), ('Greece', .69),\\\n",
    "            ('Hungary', .45), ('Ireland', .89), ('Italy', .69),\\\n",
    "            ('Latvia', .44), ('Lithuania', .54), ('Luxembourg', .63),\\\n",
    "            ('Malta', .80), ('Netherlands', .90), ('Poland', .65),\\\n",
    "            ('Portugal', .62), ('Romania', .50), ('Slovakia', 'Slovak'),\\\n",
    "            ('Slovenia', .68), ('Spain', .58), ('Sweden', .77),\\\n",
    "            ('United Kingdom', .94)]\n",
    "\n",
    "prelanguage['English Rate'] = None\n",
    "for name, rate in EU28lang:\n",
    "    prelanguage.loc[prelanguage['Reporter country'].isin([name]),'English Rate'] = rate\n",
    "\n",
    "prebilateral = prelanguage"
   ]
  },
  {
   "cell_type": "code",
   "execution_count": 10,
   "metadata": {
    "collapsed": false
   },
   "outputs": [],
   "source": [
    "euroBaromCodes = [(2,'Belgium'),(7,'Denmark'),(4,'Germany'),(11,'Greece'),(5,'Italy'),(12,'Spain'),\\\n",
    "                  (1,'France'),(8,'Ireland'),(10,'United Kingdom'),(6,'Luxembourg'),(3,'Netherlands'),\\\n",
    "                  (13,'Portugal'),(9,'United Kingdom'),(4,'Germany'),(15,'Finland'),(16,'Sweden'),\\\n",
    "                  (17,'Austria')]"
   ]
  },
  {
   "cell_type": "code",
   "execution_count": 11,
   "metadata": {
    "collapsed": false
   },
   "outputs": [],
   "source": [
    "# Adding bilateral trust data from 1996\n",
    "bilateraldata = pd.read_stata(\"Bilateral Trust.dta\", convert_categoricals=False)\n",
    "questionList = ['v11','v81','v82','v83','v84','v85','v86','v87','v88','v89','v90','v91','v92',\\\n",
    "                'v93','v94','v95','v96','v97','v98','v99','v100','v101','v102','v103']\n",
    "nameList = ['Country','Austria','Belgium','United Kingdom','Denmark','Netherlands','Finland','France','Germany','Greece',\\\n",
    "            'Ireland','Italy','Luxembourg','Portugal','Spain','Sweden','Switzerland','Norway','Poland','Hungary',\\\n",
    "            'Czech Republic','Slovakia','Russia','Turkey']\n",
    "\n",
    "bilateraldata = bilateraldata[questionList]\n",
    "for (value, name) in euroBaromCodes:\n",
    "    value = [value]\n",
    "    bilateraldata.loc[bilateraldata.v11.isin(value),'v11'] = name\n",
    "\n",
    "bilateraldata.columns = nameList"
   ]
  },
  {
   "cell_type": "code",
   "execution_count": 12,
   "metadata": {
    "collapsed": false,
    "scrolled": false
   },
   "outputs": [],
   "source": [
    "# Cleaning up the finished data\n",
    "meanbilateraltrust = bilateraldata.groupby('Country').mean().reset_index()\n",
    "newMerged = prebilateral.merge(meanbilateraltrust, how=\"left\", left_on=['Reporter country'], right_on=['Country'])\n",
    "for country in nameList[1:]:\n",
    "    newMerged.loc[newMerged['Partner country'].isin([country]),'Bilateral Trust'] = newMerged[country]\n",
    "\n",
    "newMerged = newMerged.drop(nameList[1:], axis=1)\n",
    "newMerged.drop(['Country_x','Economy','Country_y'], axis=1, inplace=True)\n",
    "newMerged['Bilateral Trust'] = newMerged['Bilateral Trust'].max() - newMerged['Bilateral Trust']\n",
    "newMerged['Bilateral Trust'] = newMerged['Bilateral Trust']/newMerged['Bilateral Trust'].max()\n",
    "preFDI = newMerged"
   ]
  },
  {
   "cell_type": "code",
   "execution_count": 13,
   "metadata": {
    "collapsed": false
   },
   "outputs": [],
   "source": [
    "# Adding FDI Numbers\n",
    "FDIstats = pd.read_excel('FDI Numbers.xlsx')\n",
    "all_stats = preFDI.merge(FDIstats, how=\"left\", left_on=['Reporter country'], right_on=['Country'])\n",
    "all_stats.drop(['Country','Bonds','Commercial bank and other lending'], axis=1, inplace=True)\n",
    "output = all_stats"
   ]
  },
  {
   "cell_type": "code",
   "execution_count": 14,
   "metadata": {
    "collapsed": true
   },
   "outputs": [],
   "source": [
    "output.to_csv('dataset.csv')"
   ]
  },
  {
   "cell_type": "code",
   "execution_count": null,
   "metadata": {
    "collapsed": true
   },
   "outputs": [],
   "source": []
  }
 ],
 "metadata": {
  "kernelspec": {
   "display_name": "Python 2",
   "language": "python",
   "name": "python2"
  },
  "language_info": {
   "codemirror_mode": {
    "name": "ipython",
    "version": 2
   },
   "file_extension": ".py",
   "mimetype": "text/x-python",
   "name": "python",
   "nbconvert_exporter": "python",
   "pygments_lexer": "ipython2",
   "version": "2.7.10"
  }
 },
 "nbformat": 4,
 "nbformat_minor": 0
}
